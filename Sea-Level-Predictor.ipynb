{
 "cells": [
  {
   "cell_type": "markdown",
   "metadata": {},
   "source": [
    "# Sea Level Predictor\n",
    "\n",
    "This project I analyzed a dataset of the global average sea level change since 1880. \n",
    "\n",
    "I then used the data to predict the sea level change through year 2050."
   ]
  },
  {
   "cell_type": "code",
   "execution_count": null,
   "metadata": {},
   "outputs": [],
   "source": [
    "# Importing libraries\n",
    "import pandas as pd\n",
    "import matplotlib.pyplot as plt\n",
    "from scipy.stats import linregress\n",
    "\n",
    "def draw_plot():\n",
    "    # Read data from file\n",
    "    df = pd.read_csv('epa-sea-level.csv')\n",
    "\n",
    "    # Create scatter plot\n",
    "    x = df['Year']\n",
    "    y = df['CSIRO Adjusted Sea Level']\n",
    "    fig, ax = plt.subplots()\n",
    "    import numpy as np\n",
    "    plt.scatter(x, y, c=np.sign(y))\n",
    "\n",
    "    # Create first line of best fit\n",
    "    slope, intercept, r_value, p_value, stderr = linregress(x, y)\n",
    "    d1 = pd.Series(list(range(2014, 2050)))\n",
    "    df1 = pd.DataFrame(d1)\n",
    "    a = pd.DataFrame(df['Year'].append(df1[0], ignore_index=True))\n",
    "    a = a.rename(columns={0:'year'})\n",
    "    a= a['year']\n",
    "    b = intercept + slope*a\n",
    "    plt.plot(a, b, 'r', label='fitted line 1')\n",
    "    plt.legend()\n",
    "    plt.tight_layout()\n",
    "    \n",
    "    # Create second line of best fit\n",
    "    second = df[df['Year'] >= 2000]\n",
    "    slope, intercept, r_value, p_value, stderr = linregress(second['Year'], second['CSIRO Adjusted Sea Level'])\n",
    "    d1 = pd.Series(list(range(2014, 2050)))\n",
    "    df1 = pd.DataFrame(d1)\n",
    "    a = pd.DataFrame(df['Year'].append(df1[0], ignore_index=True))\n",
    "    a = a.rename(columns={0:'year'})\n",
    "    c = a['year'].iloc[120: ]\n",
    "    d = intercept + slope*c\n",
    "    plt.plot(c, d, 'm', label='fitted line 2')\n",
    "    plt.legend()\n",
    "    plt.tight_layout()\n",
    "\n",
    "    # Add labels and title\n",
    "    plt.xlabel('Year')\n",
    "    plt.ylabel('Sea Level (inches)')\n",
    "    plt.title('Rise in Sea Level')\n",
    "    \n",
    "    # Save plot and return data for testing (DO NOT MODIFY)\n",
    "    plt.savefig('sea_level_plot.png')\n",
    "    return plt.gca()"
   ]
  }
 ],
 "metadata": {
  "kernelspec": {
   "display_name": "Python 3",
   "language": "python",
   "name": "python3"
  },
  "language_info": {
   "codemirror_mode": {
    "name": "ipython",
    "version": 3
   },
   "file_extension": ".py",
   "mimetype": "text/x-python",
   "name": "python",
   "nbconvert_exporter": "python",
   "pygments_lexer": "ipython3",
   "version": "3.7.9"
  }
 },
 "nbformat": 4,
 "nbformat_minor": 4
}
